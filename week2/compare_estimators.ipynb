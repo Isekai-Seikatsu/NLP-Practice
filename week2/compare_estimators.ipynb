{
 "cells": [
  {
   "cell_type": "code",
   "execution_count": 10,
   "metadata": {},
   "outputs": [
    {
     "name": "stdout",
     "output_type": "stream",
     "text": [
      "{'clf': LogisticRegressionCV(Cs=10, class_weight=None, cv=4, dual=False,\n",
      "           fit_intercept=True, intercept_scaling=1.0, max_iter=100,\n",
      "           multi_class='warn', n_jobs=None, penalty='l2',\n",
      "           random_state=None, refit=True, scoring='roc_auc',\n",
      "           solver='newton-cg', tol=0.0001, verbose=0), 'tfidf__ngram_range': (1, 1)}\n",
      "score: 0.9905018156363476\n"
     ]
    }
   ],
   "source": [
    "import pandas as pd\n",
    "\n",
    "from sklearn.feature_extraction.text import TfidfVectorizer\n",
    "from sklearn.linear_model import LogisticRegressionCV\n",
    "from sklearn.naive_bayes import BernoulliNB\n",
    "from sklearn.svm import SVC\n",
    "\n",
    "from sklearn.pipeline import Pipeline\n",
    "from sklearn.model_selection import GridSearchCV\n",
    "\n",
    "from sklearn.model_selection import train_test_split\n",
    "from sklearn.metrics import confusion_matrix\n",
    "\n",
    "import seaborn as sns\n",
    "import matplotlib.pyplot as plt\n",
    "\n",
    "\n",
    "df = pd.read_csv('SPAM text message 20170820 - Data.csv')\n",
    "\n",
    "clf = Pipeline([('tfidf', TfidfVectorizer(stop_words='english')),\n",
    "                ('clf', None)])\n",
    "\n",
    "parameters = {\n",
    "    'tfidf__ngram_range': [(1, 1), (1, 2), (1, 3)],\n",
    "    'clf': [LogisticRegressionCV(cv=4 , solver='newton-cg', scoring='roc_auc'),\n",
    "            SVC(gamma='auto'), BernoulliNB()],\n",
    "}\n",
    "\n",
    "clf = GridSearchCV(clf, parameters, cv=4, scoring='roc_auc')\n",
    "\n",
    "\n",
    "X = df['Message']\n",
    "Y = pd.get_dummies(df['Category'])['spam']\n",
    "\n",
    "x_train, x_test, y_train, y_test = train_test_split(X, Y)\n",
    "\n",
    "clf.fit(x_train, y_train)\n",
    "print(clf.best_params_)\n",
    "print(f'score: {clf.score(x_test, y_test)}')\n"
   ]
  },
  {
   "cell_type": "code",
   "execution_count": 11,
   "metadata": {},
   "outputs": [
    {
     "data": {
      "image/png": "[encoded data removed]",
      "text/plain": [
       "<Figure size 432x288 with 2 Axes>"
      ]
     },
     "metadata": {
      "needs_background": "light"
     },
     "output_type": "display_data"
    },
    {
     "name": "stdout",
     "output_type": "stream",
     "text": [
      "     Category                                            Message  true_result  \\\n",
      "4180      ham                 Can ü send me a copy of da report?            0   \n",
      "3598     spam  Congratulations YOU'VE Won. You're a Winner in...            1   \n",
      "3688      ham             Great! I shoot big loads so get ready!            0   \n",
      "684      spam  Hi I'm sue. I am 20 years old and work as a la...            1   \n",
      "990       ham  Ugh. Gotta drive back to sd from la. My butt i...            0   \n",
      "831      spam  U have a secret admirer. REVEAL who thinks U R...            1   \n",
      "2979      ham  Yar lor... Keep raining non stop... Or u wan 2...            0   \n",
      "4348     spam  U 447801259231 have a secret admirer who is lo...            1   \n",
      "2172      ham                      I wont. So wat's wit the guys            0   \n",
      "5402      ham  Hi babe its me thanks for coming even though i...            0   \n",
      "\n",
      "      model_perdict  \n",
      "4180              0  \n",
      "3598              1  \n",
      "3688              0  \n",
      "684               1  \n",
      "990               0  \n",
      "831               1  \n",
      "2979              0  \n",
      "4348              1  \n",
      "2172              0  \n",
      "5402              0  \n"
     ]
    }
   ],
   "source": [
    "y_pred = clf.predict(x_test)\n",
    "cm = confusion_matrix(y_test, y_pred)\n",
    "sns.heatmap(cm, annot=True, fmt='d')\n",
    "plt.show()\n",
    "\n",
    "samples = df.loc[y_test.index].copy()\n",
    "samples['true_result'] = y_test\n",
    "samples['model_perdict'] = y_pred\n",
    "print(samples.sample(n=10))\n"
   ]
  }
 ],
 "metadata": {
  "kernelspec": {
   "display_name": "Python 3",
   "language": "python",
   "name": "python3"
  },
  "language_info": {
   "codemirror_mode": {
    "name": "ipython",
    "version": 3
   },
   "file_extension": ".py",
   "mimetype": "text/x-python",
   "name": "python",
   "nbconvert_exporter": "python",
   "pygments_lexer": "ipython3",
   "version": "3.7.3"
  }
 },
 "nbformat": 4,
 "nbformat_minor": 2
}
