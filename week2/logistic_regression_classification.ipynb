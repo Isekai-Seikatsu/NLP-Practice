{
 "cells": [
  {
   "cell_type": "code",
   "execution_count": 9,
   "metadata": {},
   "outputs": [
    {
     "name": "stdout",
     "output_type": "stream",
     "text": [
      "{'logisticregressioncv__cv': 5, 'logisticregressioncv__solver': 'newton-cg', 'tfidfvectorizer__ngram_range': (1, 2)}\n",
      "score: 0.9909331659544466\n"
     ]
    }
   ],
   "source": [
    "import pandas as pd\n",
    "\n",
    "from sklearn.feature_extraction.text import TfidfVectorizer\n",
    "from sklearn.linear_model import LogisticRegressionCV\n",
    "from sklearn.pipeline import make_pipeline\n",
    "from sklearn.model_selection import GridSearchCV\n",
    "\n",
    "from sklearn.model_selection import train_test_split\n",
    "from sklearn.metrics import confusion_matrix\n",
    "\n",
    "import seaborn as sns\n",
    "import matplotlib.pyplot as plt\n",
    "\n",
    "\n",
    "df = pd.read_csv('SPAM text message 20170820 - Data.csv')\n",
    "\n",
    "clf = make_pipeline(\n",
    "    TfidfVectorizer(stop_words='english'),\n",
    "    LogisticRegressionCV(cv=5 , solver='liblinear', scoring='roc_auc'))\n",
    "\n",
    "parameters = {\n",
    "    'tfidfvectorizer__ngram_range': [(1, 1), (1, 2), (1, 3)],\n",
    "    'logisticregressioncv__cv': [3, 4, 5],\n",
    "    'logisticregressioncv__solver': ['newton-cg', 'lbfgs', 'liblinear']\n",
    "}\n",
    "\n",
    "clf = GridSearchCV(clf, parameters, cv=4, scoring='roc_auc')\n",
    "\n",
    "\n",
    "X = df['Message']\n",
    "Y = pd.get_dummies(df['Category'])['spam']\n",
    "\n",
    "x_train, x_test, y_train, y_test = train_test_split(X, Y)\n",
    "\n",
    "clf.fit(x_train, y_train)\n",
    "print(clf.best_params_)\n",
    "print(f'score: {clf.score(x_test, y_test)}')\n"
   ]
  },
  {
   "cell_type": "code",
   "execution_count": 10,
   "metadata": {},
   "outputs": [
    {
     "data": {
      "image/png": "[encoded data removed]",
      "text/plain": [
       "<Figure size 432x288 with 2 Axes>"
      ]
     },
     "metadata": {
      "needs_background": "light"
     },
     "output_type": "display_data"
    },
    {
     "name": "stdout",
     "output_type": "stream",
     "text": [
      "     Category                                            Message  true_result  \\\n",
      "5175      ham  Raji..pls do me a favour. Pls convey my Birthd...            0   \n",
      "2221      ham  But really quite funny lor wat... Then u shd h...            0   \n",
      "1118     spam  449050000301 You have won a £2,000 price! To c...            1   \n",
      "5436      ham                         Mode men or have you left.            0   \n",
      "1622      ham  Living is very simple.. Loving is also simple....            0   \n",
      "9        spam  Had your mobile 11 months or more? U R entitle...            1   \n",
      "4167      ham  Well if I'm that desperate I'll just call arma...            0   \n",
      "3072      ham     Apart from the one i told you about yesterday?            0   \n",
      "2739      ham  I sent you the prices and do you mean the  &lt...            0   \n",
      "4282      ham  Wn u r hurt by d prsn who s close 2 u, do figh...            0   \n",
      "\n",
      "      model_perdict  \n",
      "5175              0  \n",
      "2221              0  \n",
      "1118              1  \n",
      "5436              0  \n",
      "1622              0  \n",
      "9                 1  \n",
      "4167              0  \n",
      "3072              0  \n",
      "2739              0  \n",
      "4282              0  \n"
     ]
    }
   ],
   "source": [
    "y_pred = clf.predict(x_test)\n",
    "cm = confusion_matrix(y_test, y_pred)\n",
    "sns.heatmap(cm, annot=True, fmt='d')\n",
    "plt.show()\n",
    "\n",
    "samples = df.loc[y_test.index].copy()\n",
    "samples['true_result'] = y_test\n",
    "samples['model_perdict'] = y_pred\n",
    "print(samples.sample(n=10))\n"
   ]
  }
 ],
 "metadata": {
  "kernelspec": {
   "display_name": "Python 3",
   "language": "python",
   "name": "python3"
  },
  "language_info": {
   "codemirror_mode": {
    "name": "ipython",
    "version": 3
   },
   "file_extension": ".py",
   "mimetype": "text/x-python",
   "name": "python",
   "nbconvert_exporter": "python",
   "pygments_lexer": "ipython3",
   "version": "3.7.3"
  }
 },
 "nbformat": 4,
 "nbformat_minor": 2
}
